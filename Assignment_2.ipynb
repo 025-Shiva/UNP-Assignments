{
  "nbformat": 4,
  "nbformat_minor": 0,
  "metadata": {
    "colab": {
      "name": "Assignment-2.ipynb",
      "provenance": [],
      "include_colab_link": true
    },
    "kernelspec": {
      "name": "python3",
      "display_name": "Python 3"
    },
    "language_info": {
      "name": "python"
    }
  },
  "cells": [
    {
      "cell_type": "markdown",
      "metadata": {
        "id": "view-in-github",
        "colab_type": "text"
      },
      "source": [
        "<a href=\"https://colab.research.google.com/github/025-Shiva/UNP-Assignments/blob/main/Assignment_2.ipynb\" target=\"_parent\"><img src=\"https://colab.research.google.com/assets/colab-badge.svg\" alt=\"Open In Colab\"/></a>"
      ]
    },
    {
      "cell_type": "markdown",
      "source": [
        "This is your assignment on conditional statement and looping"
      ],
      "metadata": {
        "id": "RWGPvgMGhZo5"
      }
    },
    {
      "cell_type": "markdown",
      "source": [
        "**Problem-1**<br>\n",
        "Write a small program to check a number is divisible by 7 or not"
      ],
      "metadata": {
        "id": "IKuXztS-h62c"
      }
    },
    {
      "cell_type": "code",
      "source": [
        "x=int(input(\"enter a number\"))\n",
        "if(x%7==0):\n",
        "  print(\"It is divisible by 7\")\n",
        "else:\n",
        "  print(\"It is not divisible by 7\")\n"
      ],
      "metadata": {
        "id": "tmLkoOqthcy-",
        "colab": {
          "base_uri": "https://localhost:8080/"
        },
        "outputId": "6128a9fc-b0ab-4138-ebff-536121d47de1"
      },
      "execution_count": 1,
      "outputs": [
        {
          "output_type": "stream",
          "name": "stdout",
          "text": [
            "enter a number25\n",
            "It is not divisible by 7\n"
          ]
        }
      ]
    },
    {
      "cell_type": "markdown",
      "source": [
        "**Problem-2**<br>\n",
        "If a number is divisible by either 5 or 7, then we will call it a 'five-or-seven' number.<br> \n",
        "Write down a program to check if a number is 'five-or-seven' number or not."
      ],
      "metadata": {
        "id": "aKEBothyhZy8"
      }
    },
    {
      "cell_type": "code",
      "source": [
        "n=int(input(\"enter a number\"))\n",
        "if((n%5==0)or(n%7==0)):\n",
        "  print(\"It is five-or-seven number\")\n",
        "else:\n",
        "  print(\"It is not five-or-seven number\")\n"
      ],
      "metadata": {
        "id": "Vv-j3UR9hd1-",
        "colab": {
          "base_uri": "https://localhost:8080/"
        },
        "outputId": "e79d3ddf-c030-4fb9-d013-be17a1f615bb"
      },
      "execution_count": 2,
      "outputs": [
        {
          "output_type": "stream",
          "name": "stdout",
          "text": [
            "enter a number10\n",
            "It is five-or-seven number\n"
          ]
        }
      ]
    },
    {
      "cell_type": "markdown",
      "source": [
        "**Problem-3**<br>\n",
        "Write a program to calculate the electricity bill (accept number of unit from user) according to the following criteria:<br>  \n",
        "Upto first 100 units Rs. 3 per unit.<br>\n",
        "Next 100 units Rs. 5 per unit.<br>\n",
        "Next 300 units Rs. 7 per unit.<br>\n",
        "Above that, for each unit exceeding 500, Rs. 10 per unit flat.<br>"
      ],
      "metadata": {
        "id": "Y9KxqFjxl2zt"
      }
    },
    {
      "cell_type": "code",
      "source": [
        "Units=int(input(\"enter no.of units\"))\n",
        "if(Units<=100):\n",
        "  Bill=Units*3\n",
        "  print(Bill)\n",
        "elif(Units<=200):\n",
        "  Bill=Units*5\n",
        "  print(Bill)\n",
        "elif(Units<=500):\n",
        "  Bill=Units*7\n",
        "  print(Bill)\n",
        "else:\n",
        "  Bill=Units*10\n",
        "  print(Bill)\n"
      ],
      "metadata": {
        "id": "f_xfH-gSnRvI",
        "colab": {
          "base_uri": "https://localhost:8080/"
        },
        "outputId": "0a73e650-2b98-4c72-a156-da3533bc1cc3"
      },
      "execution_count": 3,
      "outputs": [
        {
          "output_type": "stream",
          "name": "stdout",
          "text": [
            "enter no.of units500\n",
            "3500\n"
          ]
        }
      ]
    },
    {
      "cell_type": "markdown",
      "source": [
        "**Problem-4**<br>\n",
        "Find out sum of square of all the numbers upto 10, starting from 1"
      ],
      "metadata": {
        "id": "rLNw2lAwhZ8q"
      }
    },
    {
      "cell_type": "code",
      "source": [
        "num=10\n",
        "sum=0\n",
        "for s in range(1,num+1):\n",
        "  sum=sum+(s*s)\n",
        "print(\"Sum of Squares is \",sum)\n"
      ],
      "metadata": {
        "id": "8kgqZ_x-heuw",
        "colab": {
          "base_uri": "https://localhost:8080/"
        },
        "outputId": "d9b6d8d7-2a1e-4fe1-dc2b-cb37329e6fc9"
      },
      "execution_count": 4,
      "outputs": [
        {
          "output_type": "stream",
          "name": "stdout",
          "text": [
            "Sum of Squares is  385\n"
          ]
        }
      ]
    },
    {
      "cell_type": "markdown",
      "source": [
        "**Problem-5**<br>\n",
        "Find out sum of square of all the even numbers upto 10, starting from 1"
      ],
      "metadata": {
        "id": "Y-MCE0x9haiN"
      }
    },
    {
      "cell_type": "code",
      "source": [
        "num=10\n",
        "sum=0\n",
        "for s in range(1,num+1):\n",
        "  if(s%2==0):\n",
        "    sum=sum+(s*s)\n",
        "print(\"Sum of Squares of even no.s is \",sum)\n",
        "\n"
      ],
      "metadata": {
        "id": "Ki_-j4Dphfkd",
        "colab": {
          "base_uri": "https://localhost:8080/"
        },
        "outputId": "c1dc1aae-2424-4f86-870d-83c763272c96"
      },
      "execution_count": 5,
      "outputs": [
        {
          "output_type": "stream",
          "name": "stdout",
          "text": [
            "Sum of Squares of even no.s is  220\n"
          ]
        }
      ]
    },
    {
      "cell_type": "markdown",
      "source": [
        "**Problem-6**<br>\n",
        "Check a number is prime or not"
      ],
      "metadata": {
        "id": "Sxp-egxiha1L"
      }
    },
    {
      "cell_type": "code",
      "source": [
        "num=int(input(\"enter a number\"))\n",
        "if num>1:\n",
        "  for i in range(2,int(num/2)+1):\n",
        "    if(num%i==0):\n",
        "      print(num,\"is not a prime number\")\n",
        "      break\n",
        "  else:\n",
        "    print(num,\"is a prime number\")\n"
      ],
      "metadata": {
        "id": "IoGNy2aMhgop",
        "colab": {
          "base_uri": "https://localhost:8080/"
        },
        "outputId": "503e679f-54ab-4cc1-f5de-12051403948f"
      },
      "execution_count": 6,
      "outputs": [
        {
          "output_type": "stream",
          "name": "stdout",
          "text": [
            "enter a number25\n",
            "25 is not a prime number\n"
          ]
        }
      ]
    },
    {
      "cell_type": "markdown",
      "source": [
        "**Problem-7**<br>\n",
        "Print multiplication table upto 10 starting from 1"
      ],
      "metadata": {
        "id": "ntLKcA1hha44"
      }
    },
    {
      "cell_type": "code",
      "source": [
        "m=int(input(\"enter a number\"))\n",
        "i=1\n",
        "while(i<=10):\n",
        "  product=m*i\n",
        "  print(m,'*',i,'=',product,'\\n')\n",
        "  i=i+1\n",
        "print('\\n')\n"
      ],
      "metadata": {
        "id": "U5LmrwFmhiE3",
        "colab": {
          "base_uri": "https://localhost:8080/"
        },
        "outputId": "beca040c-a681-4cb2-c625-cb9f7e95791f"
      },
      "execution_count": 7,
      "outputs": [
        {
          "output_type": "stream",
          "name": "stdout",
          "text": [
            "enter a number5\n",
            "5 * 1 = 5 \n",
            "\n",
            "5 * 2 = 10 \n",
            "\n",
            "5 * 3 = 15 \n",
            "\n",
            "5 * 4 = 20 \n",
            "\n",
            "5 * 5 = 25 \n",
            "\n",
            "5 * 6 = 30 \n",
            "\n",
            "5 * 7 = 35 \n",
            "\n",
            "5 * 8 = 40 \n",
            "\n",
            "5 * 9 = 45 \n",
            "\n",
            "5 * 10 = 50 \n",
            "\n",
            "\n",
            "\n"
          ]
        }
      ]
    },
    {
      "cell_type": "markdown",
      "source": [
        "**Problem-8**<br>\n",
        "Print the series of first n fibonacci numbers"
      ],
      "metadata": {
        "id": "09Fwyn_ZhbDY"
      }
    },
    {
      "cell_type": "code",
      "source": [
        "f=int(input(\"enter a number\"))\n",
        "f1=0\n",
        "f2=1\n",
        "c=2\n",
        "print(f1,f2)\n",
        "while(c<=f):\n",
        "  f3=f1+f2\n",
        "  print(f3)\n",
        "  f1=f2\n",
        "  f2=f3\n",
        "  c=c+1\n"
      ],
      "metadata": {
        "id": "mo2otdwfhi3J",
        "colab": {
          "base_uri": "https://localhost:8080/"
        },
        "outputId": "c2f726c7-67ee-4018-e338-d36f075ee78a"
      },
      "execution_count": 8,
      "outputs": [
        {
          "output_type": "stream",
          "name": "stdout",
          "text": [
            "enter a number15\n",
            "0 1\n",
            "1\n",
            "2\n",
            "3\n",
            "5\n",
            "8\n",
            "13\n",
            "21\n",
            "34\n",
            "55\n",
            "89\n",
            "144\n",
            "233\n",
            "377\n",
            "610\n"
          ]
        }
      ]
    }
  ]
}